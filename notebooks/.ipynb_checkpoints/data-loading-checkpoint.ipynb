{
 "cells": [
  {
   "cell_type": "markdown",
   "metadata": {},
   "source": [
    "# Detecting Fake Job Postings with Machine Learning\n",
    "\n",
    "#### Project Storyline: Fighting Fraud in the Job Market\n",
    "\n",
    "In today’s digital age, millions of online job platforms have become targets for scammers posting fake jobs to steal personal data or charge fake fees. These fraudulent listings erode trust and waste job seekers' time. To help job boards maintain safety and efficiency. These fraudulent jobs often:\n",
    "\n",
    "- Collect personal information under false pretenses\n",
    "- Charge fake application or training fees\n",
    "- Waste job seekers’ time and damage their trust\n",
    "\n",
    "To protect users and improve trust in online job boards, we aim to build a machine learning model that flags suspicious job postings.\n",
    "\n",
    "##### Stakeholder\n",
    "The key stakeholder is online job platforms (e.g., LinkedIn, Indeed). They aim to protect job seekers from scams, maintain trust, and reduce manual moderation by using automated fake job detection.\n",
    "\n",
    "##### Objective\n",
    "\n",
    "Build a classification model that can predict whether a job listing is **fraudulent (1)** or **legitimate (0)** based on its content.\n",
    "\n",
    "##### Business Questions\n",
    "1. Can we predict fake job postings based on content like description, location, and telecommuting?\n",
    "\n",
    "2. Which features are most predictive of fraudulent listings?\n",
    "\n",
    "3. How well can we catch fake listings without misclassifying too many real ones?\n",
    "\n",
    "4. How can this model be used to assist or automate moderation workflows?\n",
    "\n",
    "##### Why Machine Learning?\n",
    "\n",
    "Rule-based systems can’t keep up with evolving scams. With machine learning, we can:\n",
    "\n",
    "- Learn from patterns across thousands of job postings\n",
    "- Automatically detect suspicious listings\n",
    "- Support human moderators with predictions\n",
    "\n",
    "##### Dataset\n",
    "\n",
    "We’ll use the “Fake Job Postings” dataset from [Kaggle](https://www.kaggle.com/shivamb/real-or-fake-fake-jobposting-prediction). The dataset includes real and fake job posts, with features such as:\n",
    "\n",
    "- Job title, company, location\n",
    "- Description, requirements, benefits\n",
    "- Telecommuting, company logo, employment type\n",
    "\n",
    "Our target variable is:\n",
    "- `fraudulent`: 0 = Real job, 1 = Fake job\n",
    "\n",
    "---\n",
    "\n",
    "### **Let’s begin by importing the dataset and exploring the data.**\n"
   ]
  },
  {
   "cell_type": "code",
   "execution_count": null,
   "metadata": {
    "vscode": {
     "languageId": "plaintext"
    }
   },
   "outputs": [],
   "source": []
  }
 ],
 "metadata": {
  "kernelspec": {
   "display_name": "Python 3",
   "language": "python",
   "name": "python3"
  },
  "language_info": {
   "codemirror_mode": {
    "name": "ipython",
    "version": 3
   },
   "file_extension": ".py",
   "mimetype": "text/x-python",
   "name": "python",
   "nbconvert_exporter": "python",
   "pygments_lexer": "ipython3",
   "version": "3.8.5"
  }
 },
 "nbformat": 4,
 "nbformat_minor": 5
}
